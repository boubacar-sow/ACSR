{
 "cells": [
  {
   "cell_type": "code",
   "execution_count": 25,
   "metadata": {},
   "outputs": [
    {
     "name": "stdout",
     "output_type": "stream",
     "text": [
      "CSV file 'grid_search_results.csv' created with results from 64 log files.\n"
     ]
    }
   ],
   "source": [
    "import os\n",
    "import re\n",
    "import csv\n",
    "import glob\n",
    "\n",
    "# Directory where the log files are stored\n",
    "log_dir = \"/pasteur/appa/homes/bsow/ACSR/src/acsr/logs/grid_search\"\n",
    "# Output CSV file path\n",
    "output_csv = \"grid_search_results.csv\"\n",
    "\n",
    "# Regex patterns to extract configuration and training metrics\n",
    "config_start_pattern = re.compile(r\"CONFIG:\")\n",
    "config_param_pattern = re.compile(r\"\\s*(\\w+)\\s*:\\s*([\\S]+)\")\n",
    "# Training line example:\n",
    "# Epoch 1/8000, Train Loss: 1.781, Val Loss: 0.908, Accuracy (1-PER): 0.137, Accuracy gestures (1-PER): 0.137, Time: 12.57 sec\n",
    "epoch_line_pattern = re.compile(\n",
    "    r\"Epoch\\s+(\\d+)/\\d+,\\s+Train Loss:\\s+([\\d.]+),\\s+Val Loss:\\s+([\\d.]+),\\s+Accuracy \\(1-PER\\):\\s+([\\d.]+),\\s+Accuracy gestures \\(1-PER\\):\\s+([\\d.]+),\\s+Time:\\s+([\\d.]+)\\s+sec\"\n",
    ")\n",
    "\n",
    "# For storing CSV rows\n",
    "rows = []\n",
    "\n",
    "# Get list of all .log files in directory\n",
    "log_files = glob.glob(os.path.join(log_dir, \"*.log\"))\n",
    "\n",
    "for log_file in log_files:\n",
    "    with open(log_file, \"r\") as f:\n",
    "        lines = f.readlines()\n",
    "\n",
    "    # Dictionaries to hold configuration and best metrics\n",
    "    config = {}\n",
    "    best_metrics = {\n",
    "        \"epoch\": None,\n",
    "        \"syllable_acc\": 0.0,  # assuming higher is better\n",
    "        \"gesture_acc\": 0.0,\n",
    "        # \"phoneme_acc\": 0.0  # Uncomment if phoneme accuracy is available\n",
    "    }\n",
    "\n",
    "    # Step 1: Locate the config block\n",
    "    in_config = False\n",
    "    for line in lines:\n",
    "        if \"CONFIG:\" in line:\n",
    "            in_config = True\n",
    "            continue  # skip the line that just says \"CONFIG:\"\n",
    "        if in_config:\n",
    "            # Stop if we hit an empty line or a line that doesn't match a config parameter format\n",
    "            if line.strip() == \"\" or not config_param_pattern.match(line):\n",
    "                in_config = False\n",
    "                continue\n",
    "            match = config_param_pattern.match(line)\n",
    "            if match:\n",
    "                key, value = match.groups()\n",
    "                config[key] = value\n",
    "\n",
    "    # Step 2: Parse training lines and find best epoch based on syllable accuracy (\"Accuracy (1-PER)\")\n",
    "    for line in lines:\n",
    "        match = epoch_line_pattern.search(line)\n",
    "        if match:\n",
    "            epoch, train_loss, val_loss, syllable_acc, gesture_acc, time_sec = match.groups()\n",
    "            syllable_acc = float(syllable_acc)\n",
    "            # If you had phoneme accuracy in the logs, add extraction logic here.\n",
    "            if syllable_acc > best_metrics[\"syllable_acc\"]:\n",
    "                best_metrics[\"epoch\"] = int(epoch)\n",
    "                best_metrics[\"syllable_acc\"] = syllable_acc\n",
    "                best_metrics[\"gesture_acc\"] = float(gesture_acc)\n",
    "                # best_metrics[\"phoneme_acc\"] = ...  # if applicable\n",
    "\n",
    "    # Prepare a row for the CSV\n",
    "    # Start with filename\n",
    "    row = {\"filename\": os.path.basename(log_file)}\n",
    "    # Add configuration values to the row (you can choose which ones to include)\n",
    "    row.update(config)\n",
    "    # Add best metrics\n",
    "    row[\"best_epoch\"] = best_metrics[\"epoch\"]\n",
    "    row[\"best_syllable_accuracy\"] = best_metrics[\"syllable_acc\"]\n",
    "    row[\"best_gesture_accuracy\"] = best_metrics[\"gesture_acc\"]\n",
    "    # row[\"best_phoneme_accuracy\"] = best_metrics.get(\"phoneme_acc\", \"\")  # if available\n",
    "\n",
    "    rows.append(row)\n",
    "\n",
    "# Determine the fieldnames for CSV (collect all keys from rows)\n",
    "fieldnames = set()\n",
    "for row in rows:\n",
    "    fieldnames.update(row.keys())\n",
    "fieldnames = list(fieldnames)\n",
    "\n",
    "# Write out the CSV\n",
    "with open(output_csv, \"w\", newline=\"\") as csvfile:\n",
    "    writer = csv.DictWriter(csvfile, fieldnames=fieldnames)\n",
    "    writer.writeheader()\n",
    "    writer.writerows(rows)\n",
    "\n",
    "print(f\"CSV file '{output_csv}' created with results from {len(log_files)} log files.\")\n"
   ]
  },
  {
   "cell_type": "code",
   "execution_count": 26,
   "metadata": {},
   "outputs": [
    {
     "name": "stdout",
     "output_type": "stream",
     "text": [
      "filename                  grid_search_array_10439930_2.log\n",
      "optimizer                                             adam\n",
      "epochs                                                8000\n",
      "encoder_hidden_dim                                     128\n",
      "best_epoch                                            1069\n",
      "batch_size                                              16\n",
      "best_gesture_accuracy                                0.877\n",
      "n_layers_gru                                             1\n",
      "device                                                cuda\n",
      "alpha                                                  0.5\n",
      "learning_rate                                        0.001\n",
      "best_syllable_accuracy                               0.752\n",
      "level                                            syllables\n",
      "output_dim                                             329\n",
      "Name: 5, dtype: object\n"
     ]
    }
   ],
   "source": [
    "import pandas as pd\n",
    "\n",
    "# Load the CSV file\n",
    "df = pd.read_csv(\"grid_search_results.csv\")\n",
    "\n",
    "# Find the row with the best syllable level accuracy\n",
    "best_row = df.loc[df[\"best_syllable_accuracy\"].idxmax()]\n",
    "\n",
    "# Display the row\n",
    "print(best_row)\n"
   ]
  },
  {
   "cell_type": "code",
   "execution_count": 16,
   "metadata": {},
   "outputs": [
    {
     "name": "stdout",
     "output_type": "stream",
     "text": [
      "filename                  grid_search_array_10387325_9.log\n",
      "optimizer                                             adam\n",
      "epochs                                                8000\n",
      "encoder_hidden_dim                                     256\n",
      "best_epoch                                             326\n",
      "batch_size                                              16\n",
      "best_gesture_accuracy                                0.832\n",
      "n_layers_gru                                             3\n",
      "device                                                cuda\n",
      "alpha                                                  1.0\n",
      "learning_rate                                        0.001\n",
      "best_syllable_accuracy                               0.679\n",
      "level                                            syllables\n",
      "output_dim                                             329\n",
      "Name: 50, dtype: object\n"
     ]
    }
   ],
   "source": [
    "import pandas as pd\n",
    "\n",
    "# Load the CSV file\n",
    "df = pd.read_csv(\"grid_search_results.csv\")\n",
    "\n",
    "# Find the row with the best syllable level accuracy\n",
    "best_row = df.loc[df[\"best_syllable_accuracy\"].idxmax()]\n",
    "\n",
    "# Display the row\n",
    "print(best_row)\n"
   ]
  },
  {
   "cell_type": "code",
   "execution_count": null,
   "metadata": {},
   "outputs": [],
   "source": []
  }
 ],
 "metadata": {
  "kernelspec": {
   "display_name": "acsr-QdlckBsn-py3.11",
   "language": "python",
   "name": "python3"
  },
  "language_info": {
   "codemirror_mode": {
    "name": "ipython",
    "version": 3
   },
   "file_extension": ".py",
   "mimetype": "text/x-python",
   "name": "python",
   "nbconvert_exporter": "python",
   "pygments_lexer": "ipython3",
   "version": "3.11.5"
  }
 },
 "nbformat": 4,
 "nbformat_minor": 2
}
