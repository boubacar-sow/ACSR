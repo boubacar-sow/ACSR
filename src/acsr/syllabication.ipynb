{
 "cells": [
  {
   "cell_type": "code",
   "execution_count": 56,
   "metadata": {},
   "outputs": [
    {
     "name": "stdout",
     "output_type": "stream",
     "text": [
      "bɔ̃ʒuʀ, oʒuʀdɥi k ɛs la ʀɑ̃tʀéə dəs klas, ləs ɑ̃fɑ̃ts sɔ̃ kɔ̃tɑ̃\n"
     ]
    }
   ],
   "source": [
    "from epitran.backoff import Backoff\n",
    "# Probably you need to add encoding='utf-8' to open() \n",
    "# function in featurable.py of panphon\n",
    "def text_to_phonetics(text):\n",
    "    \"\"\"\n",
    "    Convert a French text sentence into its phonetic representation.\n",
    "    \"\"\"\n",
    "    # Convert the text to phonetics\n",
    "    backoff = Backoff(['fra-Latn'])\n",
    "    fr_ipa = backoff.transliterate(text)\n",
    "\n",
    "    return fr_ipa\n",
    "\n",
    "# Example usage\n",
    "text = \"Bonjour, aujourdhui c est la rentrée des classes, les enfants sont contents\"    \n",
    "phonetic_text = text_to_phonetics(text)\n",
    "print(phonetic_text)  # Output: bɔ̃ʒuʁ mɛ̃"
   ]
  },
  {
   "cell_type": "code",
   "execution_count": 44,
   "metadata": {},
   "outputs": [
    {
     "name": "stdout",
     "output_type": "stream",
     "text": [
      "bɔ ̃ ʒu ʀ o ʒu ʀ d ɥi k ɛ s la ʀɑ ̃ t ʀ ə də s k la s\n"
     ]
    }
   ],
   "source": [
    "import re\n",
    "\n",
    "# Define Cued Speech consonants (hand shapes) and vowels (mouth shapes)\n",
    "consonants = \"ptkbdgmnlrsfvzʃʒʁjwŋtrɥʀ\"\n",
    "vowels = \"aeɛioɔuyøœəɑ̃ɛ̃ɔ̃œ̃ɔ̃ɑ̃\"\n",
    "\n",
    "# Regex pattern for syllabification\n",
    "syllable_pattern = re.compile(\n",
    "    f\"[{consonants}]?[{vowels}]|[{consonants}]\", re.IGNORECASE\n",
    ")\n",
    "\n",
    "def syllabify_word(word):\n",
    "    \"\"\"\n",
    "    Syllabify a single word based on the allowed patterns: CV, V, C.\n",
    "    \"\"\"\n",
    "    syllables = syllable_pattern.findall(word)\n",
    "    return \" \".join(syllables)\n",
    "\n",
    "def syllabify_sentence(sentence):\n",
    "    \"\"\"\n",
    "    Syllabify an entire sentence.\n",
    "    \"\"\"\n",
    "    # Split the sentence into words (simple tokenization)\n",
    "    words = sentence.split()\n",
    "    syllabified_sentence = []\n",
    "    for word in words:\n",
    "        syllabified_sentence.append(syllabify_word(word))\n",
    "    return \" \".join(syllabified_sentence)\n",
    "\n",
    "# Test with a sentence\n",
    "result = syllabify_sentence(phonetic_text)\n",
    "print(result)"
   ]
  },
  {
   "cell_type": "code",
   "execution_count": null,
   "metadata": {},
   "outputs": [],
   "source": [
    "# We could probably get better result if \n",
    "# we use espeak-ng with the IPA phonetic transcription"
   ]
  }
 ],
 "metadata": {
  "kernelspec": {
   "display_name": "acsr-MgaKDfGw-py3.11",
   "language": "python",
   "name": "python3"
  },
  "language_info": {
   "codemirror_mode": {
    "name": "ipython",
    "version": 3
   },
   "file_extension": ".py",
   "mimetype": "text/x-python",
   "name": "python",
   "nbconvert_exporter": "python",
   "pygments_lexer": "ipython3",
   "version": "3.11.7"
  }
 },
 "nbformat": 4,
 "nbformat_minor": 2
}
